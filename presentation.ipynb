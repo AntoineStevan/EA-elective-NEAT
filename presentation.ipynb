{
 "cells": [
  {
   "cell_type": "markdown",
   "metadata": {
    "slideshow": {
     "slide_type": "slide"
    }
   },
   "source": [
    "# Minatar integration"
   ]
  },
  {
   "cell_type": "markdown",
   "metadata": {
    "slideshow": {
     "slide_type": "slide"
    }
   },
   "source": [
    "## The minatar wrapper."
   ]
  },
  {
   "cell_type": "markdown",
   "metadata": {
    "slideshow": {
     "slide_type": "slide"
    }
   },
   "source": [
    "Adapt the minatar environment to standard RL environment."
   ]
  },
  {
   "cell_type": "code",
   "execution_count": null,
   "metadata": {
    "slideshow": {
     "slide_type": "fragment"
    }
   },
   "outputs": [],
   "source": [
    "def reset(self):\n",
    "    \"\"\"\n",
    "        Resets the environment.\n",
    "\n",
    "        Return:\n",
    "            (observation) the first observation.\n",
    "    \"\"\"\n",
    "    super().reset()\n",
    "    return self._state().flatten()"
   ]
  },
  {
   "cell_type": "code",
   "execution_count": null,
   "metadata": {
    "slideshow": {
     "slide_type": "slide"
    }
   },
   "outputs": [],
   "source": [
    "def minatar_action(actions):\n",
    "    \"\"\"\n",
    "        Chooses an action among a set of actions.\n",
    "    \"\"\"\n",
    "    actions = actions.flatten()\n",
    "    action = np.random.choice(np.arange(actions.size), p=actions)\n",
    "    return action"
   ]
  },
  {
   "cell_type": "code",
   "execution_count": 2,
   "metadata": {
    "slideshow": {
     "slide_type": "slide"
    }
   },
   "outputs": [],
   "source": [
    "def step(self, actions):\n",
    "    \"\"\"\n",
    "        Steps in the environment.\n",
    "\n",
    "        Args:\n",
    "            actions (): the action to take.\n",
    "\n",
    "        Return:\n",
    "            (tensor, float, bool, dict) new observation, reward, done signal and complementary informations.\n",
    "    \"\"\"\n",
    "    reward, done = self.act(minatar_action(actions))\n",
    "    state = self._state().flatten()\n",
    "\n",
    "    return state, reward, done, {}"
   ]
  },
  {
   "cell_type": "code",
   "execution_count": 3,
   "metadata": {
    "slideshow": {
     "slide_type": "slide"
    }
   },
   "outputs": [],
   "source": [
    "    def render(self, time=0, done=False):\n",
    "        \"\"\"\n",
    "            Resets the environment.\n",
    "\n",
    "            Args:\n",
    "                time (int): the number of milliseconds for each frame. if 0, there will be no live animation.\n",
    "                done (bool): tells if the episode is done.\n",
    "\n",
    "            Return:\n",
    "                (Image) the current image of the game.\n",
    "        \"\"\"\n",
    "        if time:\n",
    "            self.display_state(time=time)\n",
    "        state = self._state()\n",
    "        state = state / np.max(state) * 256\n",
    "        image = Image.fromarray(state)\n",
    "        return image.convert('P')"
   ]
  },
  {
   "cell_type": "code",
   "execution_count": 4,
   "metadata": {
    "slideshow": {
     "slide_type": "slide"
    }
   },
   "outputs": [],
   "source": [
    "def _state(self):\n",
    "    \"\"\"\n",
    "        Reduces the dimensions of the raw observation and normalize it.\n",
    "    \"\"\"\n",
    "    # get the obsservation.\n",
    "    state = super().state()\n",
    "    # transpose to make it human readable.\n",
    "    state = state.transpose((2, 0, 1))\n",
    "    # sums the object channels to have a single image.\n",
    "    state = np.sum([state[i] * (i+1) for i in range(state.shape[0])], axis=0)\n",
    "    # normalize the image\n",
    "    m, M = np.min(state), np.max(state)\n",
    "    state = 2 * (state - m) / (M - m) - 1\n",
    "    return state"
   ]
  },
  {
   "cell_type": "markdown",
   "metadata": {
    "slideshow": {
     "slide_type": "slide"
    }
   },
   "source": [
    "## Environment hyper-definition"
   ]
  },
  {
   "cell_type": "markdown",
   "metadata": {
    "slideshow": {
     "slide_type": "fragment"
    }
   },
   "source": [
    "### Breakout"
   ]
  },
  {
   "cell_type": "code",
   "execution_count": 5,
   "metadata": {
    "slideshow": {
     "slide_type": "fragment"
    }
   },
   "outputs": [],
   "source": [
    "breakout = Game(env_name=\"minatar:breakout\",\n",
    "                actionSelect=\"softmax\",\n",
    "                input_size=100,\n",
    "                output_size=6,\n",
    "                time_factor=0,\n",
    "                layers=[5, 5],\n",
    "                i_act=np.full(5, 1),\n",
    "                h_act=[1, 2, 3, 4, 5, 6, 7, 8, 9, 10],\n",
    "                o_act=np.full(1, 1),\n",
    "                weightCap=2.0,\n",
    "                noise_bias=0.0,\n",
    "                output_noise=[False, False, False],\n",
    "                max_episode_length=1000,\n",
    "                in_out_labels=['x', 'x_dot', 'cos(theta)', 'sin(theta)', 'theta_dot',\n",
    "                               'force']\n",
    "                )\n",
    "games[\"minatar:breakout\"] = breakout"
   ]
  },
  {
   "cell_type": "markdown",
   "metadata": {
    "slideshow": {
     "slide_type": "slide"
    }
   },
   "source": [
    "## Environment hyper-definition\n",
    "### Freeway"
   ]
  },
  {
   "cell_type": "code",
   "execution_count": null,
   "metadata": {
    "slideshow": {
     "slide_type": "fragment"
    }
   },
   "outputs": [],
   "source": [
    "freeway = Game(env_name=\"minatar:freeway\",\n",
    "                actionSelect=\"softmax\",\n",
    "                input_size=100,\n",
    "                output_size=6,\n",
    "                time_factor=0,\n",
    "                layers=[5, 5],\n",
    "                i_act=np.full(5, 1),\n",
    "                h_act=[1, 2, 3, 4, 5, 6, 7, 8, 9, 10],\n",
    "                o_act=np.full(1, 1),\n",
    "                weightCap=2.0,\n",
    "                noise_bias=0.0,\n",
    "                output_noise=[False, False, False],\n",
    "                max_episode_length=1000,\n",
    "                in_out_labels=['x', 'x_dot', 'cos(theta)', 'sin(theta)', 'theta_dot',\n",
    "                               'force']\n",
    "                )\n",
    "games[\"minatar:freeway\"] = freeway"
   ]
  },
  {
   "cell_type": "markdown",
   "metadata": {
    "slideshow": {
     "slide_type": "slide"
    }
   },
   "source": [
    "## Hyperparameters automatic search."
   ]
  },
  {
   "cell_type": "code",
   "execution_count": null,
   "metadata": {
    "slideshow": {
     "slide_type": "fragment"
    }
   },
   "outputs": [],
   "source": [
    "class RunBuilder:\n",
    "    @staticmethod\n",
    "    def get_runs(parameters):\n",
    "        runs = []\n",
    "        for v in product(*parameters.values()):\n",
    "            runs.append(dict(zip(parameters.keys(), v)))\n",
    "\n",
    "        return runs"
   ]
  },
  {
   "cell_type": "code",
   "execution_count": null,
   "metadata": {
    "slideshow": {
     "slide_type": "slide"
    }
   },
   "outputs": [],
   "source": [
    "parameters = OrderedDict(\n",
    "    popSize=[64, 200],\n",
    "\n",
    "    prob_addConn=[.025, .1],\n",
    "    prob_addNode=[.015, .06],\n",
    "    prob_crossover=[.7, .9],\n",
    "    prob_enable=[.005, .02],\n",
    "    prob_mutConn=[.7, .9],\n",
    "    prob_initEnable=[.8, 1.],\n",
    ")"
   ]
  },
  {
   "cell_type": "code",
   "execution_count": null,
   "metadata": {
    "slideshow": {
     "slide_type": "slide"
    }
   },
   "outputs": [],
   "source": [
    "runs = RunBuilder.get_runs(parameters)\n",
    "t = range(60, 100)\n",
    "b_fit = 0\n",
    "b_run = -1\n",
    "for run in t:\n",
    "    fitness = run_one_hyp(hyp, runs[run], run)\n",
    "    if fitness > b_fit:\n",
    "        b_fit = fitness\n",
    "        b_run = run\n",
    "    comment = f\"run - {run} - fitness: {fitness} |---| b_fit - {b_fit} ({b_run}) |---| params - {list(runs[run].values())}\\t\\t\\t\\t{run} / {len(runs)}\"\n",
    "    print(comment)"
   ]
  },
  {
   "cell_type": "markdown",
   "metadata": {
    "slideshow": {
     "slide_type": "slide"
    }
   },
   "source": [
    "- the runs where ran on **Breakout** because it is a lot faster to evaluate."
   ]
  },
  {
   "cell_type": "markdown",
   "metadata": {
    "slideshow": {
     "slide_type": "fragment"
    }
   },
   "source": [
    "- **fitnesses** where **recorded** for further investigations."
   ]
  },
  {
   "cell_type": "markdown",
   "metadata": {
    "slideshow": {
     "slide_type": "fragment"
    }
   },
   "source": [
    "however..."
   ]
  },
  {
   "cell_type": "markdown",
   "metadata": {
    "slideshow": {
     "slide_type": "slide"
    }
   },
   "source": [
    "results were *not good* at all!"
   ]
  },
  {
   "cell_type": "markdown",
   "metadata": {
    "slideshow": {
     "slide_type": "slide"
    }
   },
   "source": [
    "the best set of hyperparameters was:"
   ]
  },
  {
   "cell_type": "markdown",
   "metadata": {
    "slideshow": {
     "slide_type": "fragment"
    }
   },
   "source": [
    "| popSize | prob_addConn | prob_addNode | prob_crossover | prob_enable | prob_mutAct | prob_mutConn | prob_initEnable | budget |\n",
    "| ------- | ------------ | ---- | ---- | ---- | ---- | ---- | ---- | ----- |\n",
    "|    32   |    .025      | .015 |  .7  |  .02 |  .0  |  .9  |  1.  | 50000 |"
   ]
  },
  {
   "cell_type": "markdown",
   "metadata": {
    "slideshow": {
     "slide_type": "fragment"
    }
   },
   "source": [
    "and the fitness seen during search was 6.0"
   ]
  },
  {
   "cell_type": "markdown",
   "metadata": {
    "slideshow": {
     "slide_type": "slide"
    }
   },
   "source": [
    "So, for final training, we have used the above set of parameters."
   ]
  },
  {
   "cell_type": "markdown",
   "metadata": {
    "slideshow": {
     "slide_type": "slide"
    }
   },
   "source": [
    "## The experiment."
   ]
  },
  {
   "cell_type": "markdown",
   "metadata": {
    "slideshow": {
     "slide_type": "fragment"
    }
   },
   "source": [
    "- run 50000 learning processes 3 times to show statistical results."
   ]
  },
  {
   "cell_type": "markdown",
   "metadata": {
    "slideshow": {
     "slide_type": "fragment"
    }
   },
   "source": [
    "- use the parameters of the above search result."
   ]
  },
  {
   "cell_type": "markdown",
   "metadata": {
    "slideshow": {
     "slide_type": "slide"
    }
   },
   "source": [
    "## The results."
   ]
  },
  {
   "cell_type": "markdown",
   "metadata": {
    "slideshow": {
     "slide_type": "fragment"
    }
   },
   "source": [
    "- time spent on Breakout:\n",
    "- final fitness on Breakout:\n",
    "- time spent on Freeway:\n",
    "- final fitness on Freeway:"
   ]
  },
  {
   "cell_type": "markdown",
   "metadata": {
    "slideshow": {
     "slide_type": "slide"
    }
   },
   "source": [
    "video Breakout"
   ]
  },
  {
   "cell_type": "markdown",
   "metadata": {
    "slideshow": {
     "slide_type": "slide"
    }
   },
   "source": [
    "video Freeway"
   ]
  }
 ],
 "metadata": {
  "@webio": {
   "lastCommId": null,
   "lastKernelId": null
  },
  "celltoolbar": "Slideshow",
  "kernelspec": {
   "display_name": "Python 3",
   "language": "python",
   "name": "python3"
  },
  "language_info": {
   "codemirror_mode": {
    "name": "ipython",
    "version": 3
   },
   "file_extension": ".py",
   "mimetype": "text/x-python",
   "name": "python",
   "nbconvert_exporter": "python",
   "pygments_lexer": "ipython3",
   "version": "3.8.8"
  }
 },
 "nbformat": 4,
 "nbformat_minor": 4
}
